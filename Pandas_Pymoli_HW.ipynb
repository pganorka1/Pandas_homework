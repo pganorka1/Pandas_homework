{
 "cells": [
  {
   "cell_type": "markdown",
   "metadata": {},
   "source": [
    "### Heroes Of Pymoli Data Analysis\n",
    "* Of the 1163 active players, the vast majority are male (84%). There also exists, a smaller, but notable proportion of female players (14%).\n",
    "\n",
    "* Our peak age demographic falls between 20-24 (44.8%) with secondary groups falling between 15-19 (18.60%) and 25-29 (13.4%).  \n",
    "-----"
   ]
  },
  {
   "cell_type": "markdown",
   "metadata": {},
   "source": [
    "### Instructions have been included for each segment. You do not have to follow them exactly, but they are included to help you think through the steps.\n",
    "\n"
   ]
  },
  {
   "cell_type": "code",
   "execution_count": null,
   "metadata": {},
   "outputs": [],
   "source": [
    "# Heros of Pymoli Data Analysis\n",
    "#Male percentage is 84% while feamle is 15%\n",
    "# Average purchase per person is slighly higher for females than males \n",
    "#Age group 5 to 22 amounts for 86% of the player\n",
    "#Age group 20-24 had maximum total purchases. However the normalized total purchases is highe for age group 34-39\n",
    "# Top 5 spenders have total purchase value close to $9\n",
    "#Most popular item was the most profitable (Oathbreaker, Last Hope of the Breaking Storm)"
   ]
  },
  {
   "cell_type": "code",
   "execution_count": 158,
   "metadata": {},
   "outputs": [],
   "source": [
    "# Dependencies and Setup\n",
    "import pandas as pd\n",
    "import numpy as np\n",
    "\n",
    "# File to Load (Remember to Change These)\n",
    "file_to_load = \"purchase_data.csv\"\n",
    "\n",
    "# Read Purchasing File and store into Pandas data frame\n",
    "purchase_data = pd.read_csv(file_to_load)\n",
    "purchase_data = purchase_data.drop_duplicates(subset=['SN'],keep='first')"
   ]
  },
  {
   "cell_type": "markdown",
   "metadata": {},
   "source": [
    "## Player Count"
   ]
  },
  {
   "cell_type": "markdown",
   "metadata": {},
   "source": [
    "* Display the total number of players\n"
   ]
  },
  {
   "cell_type": "code",
   "execution_count": 159,
   "metadata": {
    "scrolled": true
   },
   "outputs": [
    {
     "data": {
      "text/html": [
       "<div>\n",
       "<style scoped>\n",
       "    .dataframe tbody tr th:only-of-type {\n",
       "        vertical-align: middle;\n",
       "    }\n",
       "\n",
       "    .dataframe tbody tr th {\n",
       "        vertical-align: top;\n",
       "    }\n",
       "\n",
       "    .dataframe thead th {\n",
       "        text-align: right;\n",
       "    }\n",
       "</style>\n",
       "<table border=\"1\" class=\"dataframe\">\n",
       "  <thead>\n",
       "    <tr style=\"text-align: right;\">\n",
       "      <th></th>\n",
       "      <th>total player</th>\n",
       "    </tr>\n",
       "  </thead>\n",
       "  <tbody>\n",
       "    <tr>\n",
       "      <th>0</th>\n",
       "      <td>576</td>\n",
       "    </tr>\n",
       "  </tbody>\n",
       "</table>\n",
       "</div>"
      ],
      "text/plain": [
       "   total player\n",
       "0           576"
      ]
     },
     "execution_count": 159,
     "metadata": {},
     "output_type": "execute_result"
    }
   ],
   "source": [
    "player_demo = purchase_data.loc[:,[\"Gender\",\"SN\",\"Age\"]]\n",
    "player_number = player_demo[\"SN\"].nunique()\n",
    "#players = player_demo.count()[0]\n",
    "pd.DataFrame({\"total player\":[player_number]})"
   ]
  },
  {
   "cell_type": "markdown",
   "metadata": {},
   "source": [
    "## Purchasing Analysis (Total)"
   ]
  },
  {
   "cell_type": "markdown",
   "metadata": {},
   "source": [
    "* Run basic calculations to obtain number of unique items, average price, etc.\n",
    "\n",
    "\n",
    "* Create a summary data frame to hold the results\n",
    "\n",
    "\n",
    "* Optional: give the displayed data cleaner formatting\n",
    "\n",
    "\n",
    "* Display the summary data frame\n"
   ]
  },
  {
   "cell_type": "code",
   "execution_count": 160,
   "metadata": {
    "scrolled": true
   },
   "outputs": [
    {
     "data": {
      "text/html": [
       "<div>\n",
       "<style scoped>\n",
       "    .dataframe tbody tr th:only-of-type {\n",
       "        vertical-align: middle;\n",
       "    }\n",
       "\n",
       "    .dataframe tbody tr th {\n",
       "        vertical-align: top;\n",
       "    }\n",
       "\n",
       "    .dataframe thead th {\n",
       "        text-align: right;\n",
       "    }\n",
       "</style>\n",
       "<table border=\"1\" class=\"dataframe\">\n",
       "  <thead>\n",
       "    <tr style=\"text-align: right;\">\n",
       "      <th></th>\n",
       "      <th>Number of Unique Items</th>\n",
       "      <th>Average Price</th>\n",
       "      <th>Total Purchases</th>\n",
       "      <th>Total Revenue</th>\n",
       "    </tr>\n",
       "  </thead>\n",
       "  <tbody>\n",
       "    <tr>\n",
       "      <th>0</th>\n",
       "      <td>176</td>\n",
       "      <td>$3.07</td>\n",
       "      <td>576</td>\n",
       "      <td>$1,768.65</td>\n",
       "    </tr>\n",
       "  </tbody>\n",
       "</table>\n",
       "</div>"
      ],
      "text/plain": [
       "   Number of Unique Items Average Price Total Purchases Total Revenue\n",
       "0                     176         $3.07             576     $1,768.65"
      ]
     },
     "execution_count": 160,
     "metadata": {},
     "output_type": "execute_result"
    }
   ],
   "source": [
    "item_id = len(purchase_data[\"Item ID\"].unique())\n",
    "item_id\n",
    "avg_price = purchase_data[\"Price\"].mean()\n",
    "total_num_purchases = purchase_data[\"Price\"].count()\n",
    "total_purchase_value = purchase_data[\"Price\"].sum()\n",
    "summary_table = pd.DataFrame({'Number of Unique Items':[item_id],\n",
    "              \"Average Price\":[avg_price],\n",
    "             \"Total Purchases\":[total_num_purchases],\n",
    "             \"Total Revenue\":[total_purchase_value]})\n",
    "summary_table = summary_table.round(2)\n",
    "summary_table [\"Average Price\"] = summary_table[\"Average Price\"].map(\"${:,.2f}\".format)\n",
    "summary_table [\"Total Revenue\"] = summary_table[\"Total Revenue\"].map(\"${:,.2f}\".format)\n",
    "summary_table [\"Total Purchases\"] = summary_table[\"Total Purchases\"].map(\"{:,}\".format)\n",
    "summary_table\n",
    "             "
   ]
  },
  {
   "cell_type": "markdown",
   "metadata": {},
   "source": [
    "## Gender Demographics"
   ]
  },
  {
   "cell_type": "markdown",
   "metadata": {},
   "source": [
    "* Percentage and Count of Male Players\n",
    "\n",
    "\n",
    "* Percentage and Count of Female Players\n",
    "\n",
    "\n",
    "* Percentage and Count of Other / Non-Disclosed\n",
    "\n",
    "\n"
   ]
  },
  {
   "cell_type": "code",
   "execution_count": 161,
   "metadata": {
    "scrolled": true
   },
   "outputs": [
    {
     "data": {
      "text/html": [
       "<div>\n",
       "<style scoped>\n",
       "    .dataframe tbody tr th:only-of-type {\n",
       "        vertical-align: middle;\n",
       "    }\n",
       "\n",
       "    .dataframe tbody tr th {\n",
       "        vertical-align: top;\n",
       "    }\n",
       "\n",
       "    .dataframe thead th {\n",
       "        text-align: right;\n",
       "    }\n",
       "</style>\n",
       "<table border=\"1\" class=\"dataframe\">\n",
       "  <thead>\n",
       "    <tr style=\"text-align: right;\">\n",
       "      <th></th>\n",
       "      <th>Total Count</th>\n",
       "      <th>Percent Gender</th>\n",
       "    </tr>\n",
       "  </thead>\n",
       "  <tbody>\n",
       "    <tr>\n",
       "      <th>Male</th>\n",
       "      <td>484</td>\n",
       "      <td>84.03</td>\n",
       "    </tr>\n",
       "    <tr>\n",
       "      <th>Female</th>\n",
       "      <td>81</td>\n",
       "      <td>14.06</td>\n",
       "    </tr>\n",
       "    <tr>\n",
       "      <th>Other / Non-Disclosed</th>\n",
       "      <td>11</td>\n",
       "      <td>1.91</td>\n",
       "    </tr>\n",
       "  </tbody>\n",
       "</table>\n",
       "</div>"
      ],
      "text/plain": [
       "                       Total Count  Percent Gender\n",
       "Male                           484           84.03\n",
       "Female                          81           14.06\n",
       "Other / Non-Disclosed           11            1.91"
      ]
     },
     "execution_count": 161,
     "metadata": {},
     "output_type": "execute_result"
    }
   ],
   "source": [
    "total_genders = player_demo[\"Gender\"].value_counts()\n",
    "total_genders\n",
    "percent_gender = total_genders/player_number*100\n",
    "gender_table = pd.DataFrame({\"Total Count\":total_genders,\"Percent Gender\":percent_gender})\n",
    "gender_table = gender_table.round(2)\n",
    "gender_table"
   ]
  },
  {
   "cell_type": "markdown",
   "metadata": {},
   "source": [
    "\n",
    "## Purchasing Analysis (Gender)"
   ]
  },
  {
   "cell_type": "markdown",
   "metadata": {},
   "source": [
    "* Run basic calculations to obtain purchase count, avg. purchase price, avg. purchase total per person etc. by gender\n",
    "\n",
    "\n",
    "\n",
    "\n",
    "* Create a summary data frame to hold the results\n",
    "\n",
    "\n",
    "* Optional: give the displayed data cleaner formatting\n",
    "\n",
    "\n",
    "* Display the summary data frame"
   ]
  },
  {
   "cell_type": "code",
   "execution_count": 174,
   "metadata": {
    "scrolled": true
   },
   "outputs": [
    {
     "data": {
      "text/html": [
       "<div>\n",
       "<style scoped>\n",
       "    .dataframe tbody tr th:only-of-type {\n",
       "        vertical-align: middle;\n",
       "    }\n",
       "\n",
       "    .dataframe tbody tr th {\n",
       "        vertical-align: top;\n",
       "    }\n",
       "\n",
       "    .dataframe thead th {\n",
       "        text-align: right;\n",
       "    }\n",
       "</style>\n",
       "<table border=\"1\" class=\"dataframe\">\n",
       "  <thead>\n",
       "    <tr style=\"text-align: right;\">\n",
       "      <th></th>\n",
       "      <th>Purchase Count</th>\n",
       "      <th>Average Purchase Price</th>\n",
       "      <th>Total Purchase Value</th>\n",
       "      <th>Averge total purchase per person</th>\n",
       "    </tr>\n",
       "    <tr>\n",
       "      <th>Gender</th>\n",
       "      <th></th>\n",
       "      <th></th>\n",
       "      <th></th>\n",
       "      <th></th>\n",
       "    </tr>\n",
       "  </thead>\n",
       "  <tbody>\n",
       "    <tr>\n",
       "      <th>Female</th>\n",
       "      <td>113</td>\n",
       "      <td>$3.20</td>\n",
       "      <td>$361.94</td>\n",
       "      <td>$4.47</td>\n",
       "    </tr>\n",
       "    <tr>\n",
       "      <th>Male</th>\n",
       "      <td>652</td>\n",
       "      <td>$3.02</td>\n",
       "      <td>$1,967.64</td>\n",
       "      <td>$4.07</td>\n",
       "    </tr>\n",
       "    <tr>\n",
       "      <th>Other / Non-Disclosed</th>\n",
       "      <td>15</td>\n",
       "      <td>$3.35</td>\n",
       "      <td>$50.19</td>\n",
       "      <td>$4.56</td>\n",
       "    </tr>\n",
       "  </tbody>\n",
       "</table>\n",
       "</div>"
      ],
      "text/plain": [
       "                       Purchase Count Average Purchase Price  \\\n",
       "Gender                                                         \n",
       "Female                            113                  $3.20   \n",
       "Male                              652                  $3.02   \n",
       "Other / Non-Disclosed              15                  $3.35   \n",
       "\n",
       "                      Total Purchase Value Averge total purchase per person  \n",
       "Gender                                                                       \n",
       "Female                             $361.94                            $4.47  \n",
       "Male                             $1,967.64                            $4.07  \n",
       "Other / Non-Disclosed               $50.19                            $4.56  "
      ]
     },
     "execution_count": 174,
     "metadata": {},
     "output_type": "execute_result"
    }
   ],
   "source": [
    "purchase_data = pd.read_csv(file_to_load)\n",
    "#purchase_data = purchase_data.drop_duplicates(subset=['SN'],keep='first')\n",
    "\n",
    "gender_count = purchase_data.groupby([\"Gender\"]).count()[\"Price\"].rename(\"Purchase Count\")\n",
    "gender_avg = purchase_data.groupby([\"Gender\"]).mean()[\"Price\"].rename(\"Average Purchase Price\")\n",
    "gender_price = purchase_data.groupby([\"Gender\"]).sum()[\"Price\"].rename(\"Total Purchase Value\")\n",
    "gender_purchase_total = purchase_data.groupby([\"Gender\"]).sum()[\"Price\"].rename(\"Total purchase value\")\n",
    "Average_total_purchase = gender_price/total_genders\n",
    "\n",
    "gender_table = pd.DataFrame({\"Purchase Count\":gender_count,\n",
    "                             \"Average Purchase Price\":gender_avg,\n",
    "                             \"Total Purchase Value\":gender_purchase_total,\n",
    "                             \"Averge total purchase per person\":Average_total_purchase})\n",
    "gender_table = gender_table.round(2)\n",
    "gender_table [\"Average Purchase Price\"] = gender_table[\"Average Purchase Price\"].map(\"${:,.2f}\".format)\n",
    "gender_table [\"Total Purchase Value\"] = gender_table[\"Total Purchase Value\"].map(\"${:,.2f}\".format)\n",
    "gender_table [\"Averge total purchase per person\"] = gender_table[\"Averge total purchase per person\"].map(\"${:,.2f}\".format)\n",
    "gender_table"
   ]
  },
  {
   "cell_type": "markdown",
   "metadata": {},
   "source": [
    "## Age Demographics"
   ]
  },
  {
   "cell_type": "markdown",
   "metadata": {},
   "source": [
    "* Establish bins for ages\n",
    "\n",
    "\n",
    "* Categorize the existing players using the age bins. Hint: use pd.cut()\n",
    "\n",
    "\n",
    "* Calculate the numbers and percentages by age group\n",
    "\n",
    "\n",
    "* Create a summary data frame to hold the results\n",
    "\n",
    "\n",
    "* Optional: round the percentage column to two decimal points\n",
    "\n",
    "\n",
    "* Display Age Demographics Table\n"
   ]
  },
  {
   "cell_type": "code",
   "execution_count": 184,
   "metadata": {
    "scrolled": true
   },
   "outputs": [
    {
     "data": {
      "text/html": [
       "<div>\n",
       "<style scoped>\n",
       "    .dataframe tbody tr th:only-of-type {\n",
       "        vertical-align: middle;\n",
       "    }\n",
       "\n",
       "    .dataframe tbody tr th {\n",
       "        vertical-align: top;\n",
       "    }\n",
       "\n",
       "    .dataframe thead th {\n",
       "        text-align: right;\n",
       "    }\n",
       "</style>\n",
       "<table border=\"1\" class=\"dataframe\">\n",
       "  <thead>\n",
       "    <tr style=\"text-align: right;\">\n",
       "      <th></th>\n",
       "      <th>Number of Player</th>\n",
       "      <th>Percentage of Players</th>\n",
       "    </tr>\n",
       "    <tr>\n",
       "      <th>Age Group</th>\n",
       "      <th></th>\n",
       "      <th></th>\n",
       "    </tr>\n",
       "  </thead>\n",
       "  <tbody>\n",
       "    <tr>\n",
       "      <th>&lt;10</th>\n",
       "      <td>23</td>\n",
       "      <td>3.99</td>\n",
       "    </tr>\n",
       "    <tr>\n",
       "      <th>10-14</th>\n",
       "      <td>28</td>\n",
       "      <td>4.86</td>\n",
       "    </tr>\n",
       "    <tr>\n",
       "      <th>`5-19</th>\n",
       "      <td>136</td>\n",
       "      <td>23.61</td>\n",
       "    </tr>\n",
       "    <tr>\n",
       "      <th>20-24</th>\n",
       "      <td>365</td>\n",
       "      <td>63.37</td>\n",
       "    </tr>\n",
       "    <tr>\n",
       "      <th>25-29</th>\n",
       "      <td>101</td>\n",
       "      <td>17.53</td>\n",
       "    </tr>\n",
       "    <tr>\n",
       "      <th>30-34</th>\n",
       "      <td>73</td>\n",
       "      <td>12.67</td>\n",
       "    </tr>\n",
       "    <tr>\n",
       "      <th>35-39</th>\n",
       "      <td>41</td>\n",
       "      <td>7.12</td>\n",
       "    </tr>\n",
       "    <tr>\n",
       "      <th>&gt;40</th>\n",
       "      <td>13</td>\n",
       "      <td>2.26</td>\n",
       "    </tr>\n",
       "  </tbody>\n",
       "</table>\n",
       "</div>"
      ],
      "text/plain": [
       "           Number of Player  Percentage of Players\n",
       "Age Group                                         \n",
       "<10                      23                   3.99\n",
       "10-14                    28                   4.86\n",
       "`5-19                   136                  23.61\n",
       "20-24                   365                  63.37\n",
       "25-29                   101                  17.53\n",
       "30-34                    73                  12.67\n",
       "35-39                    41                   7.12\n",
       ">40                      13                   2.26"
      ]
     },
     "execution_count": 184,
     "metadata": {},
     "output_type": "execute_result"
    }
   ],
   "source": [
    "purchase_data = pd.read_csv(file_to_load)\n",
    "#purchase_data = purchase_data.drop_duplicates(subset=['SN'],keep='first')\n",
    "bins =[0, 9.90, 14.90, 19.90, 24.90, 29.90, 34.90, 39.90, 99999]\n",
    "bin_names =[\"<10\",\"10-14\",\"`5-19\",\"20-24\",\"25-29\",\"30-34\",\"35-39\",\">40\"]\n",
    "purchase_data[\"Age Group\"] = pd.cut(purchase_data[\"Age\"],bins,labels=bin_names)\n",
    "#purchase_data = purchase_data.drop_duplicates(\"SN\")\n",
    "purchase_data\n",
    "purchase_data1 = purchase_data.groupby(\"Age Group\")\n",
    "purchase_data1\n",
    "age_count = purchase_data1[\"Age\"].count()\n",
    "percent_age = (age_count/player_number)*100\n",
    "#age_count\n",
    "percent_age\n",
    "df_age = pd.DataFrame({\"Number of Player\":age_count,\"Percentage of Players\":percent_age})\n",
    "df_age= df_age.round(2)\n",
    "df_age"
   ]
  },
  {
   "cell_type": "markdown",
   "metadata": {},
   "source": [
    "## Purchasing Analysis (Age)"
   ]
  },
  {
   "cell_type": "markdown",
   "metadata": {},
   "source": [
    "* Bin the purchase_data data frame by age\n",
    "\n",
    "\n",
    "* Run basic calculations to obtain purchase count, avg. purchase price, avg. purchase total per person etc. in the table below\n",
    "\n",
    "\n",
    "* Create a summary data frame to hold the results\n",
    "\n",
    "\n",
    "* Optional: give the displayed data cleaner formatting\n",
    "\n",
    "\n",
    "* Display the summary data frame"
   ]
  },
  {
   "cell_type": "code",
   "execution_count": 185,
   "metadata": {},
   "outputs": [
    {
     "data": {
      "text/html": [
       "<div>\n",
       "<style scoped>\n",
       "    .dataframe tbody tr th:only-of-type {\n",
       "        vertical-align: middle;\n",
       "    }\n",
       "\n",
       "    .dataframe tbody tr th {\n",
       "        vertical-align: top;\n",
       "    }\n",
       "\n",
       "    .dataframe thead th {\n",
       "        text-align: right;\n",
       "    }\n",
       "</style>\n",
       "<table border=\"1\" class=\"dataframe\">\n",
       "  <thead>\n",
       "    <tr style=\"text-align: right;\">\n",
       "      <th></th>\n",
       "      <th>Purchase Count</th>\n",
       "      <th>Average Purchase Price</th>\n",
       "      <th>Total Purchase Value</th>\n",
       "      <th>Normalized Totals</th>\n",
       "    </tr>\n",
       "    <tr>\n",
       "      <th>Age Ranges</th>\n",
       "      <th></th>\n",
       "      <th></th>\n",
       "      <th></th>\n",
       "      <th></th>\n",
       "    </tr>\n",
       "  </thead>\n",
       "  <tbody>\n",
       "    <tr>\n",
       "      <th>&lt;10</th>\n",
       "      <td>$23.00</td>\n",
       "      <td>$3.35</td>\n",
       "      <td>$77.13</td>\n",
       "      <td>$3.35</td>\n",
       "    </tr>\n",
       "    <tr>\n",
       "      <th>10-14</th>\n",
       "      <td>$28.00</td>\n",
       "      <td>$2.96</td>\n",
       "      <td>$82.78</td>\n",
       "      <td>$2.96</td>\n",
       "    </tr>\n",
       "    <tr>\n",
       "      <th>`5-19</th>\n",
       "      <td>$136.00</td>\n",
       "      <td>$3.04</td>\n",
       "      <td>$412.89</td>\n",
       "      <td>$3.04</td>\n",
       "    </tr>\n",
       "    <tr>\n",
       "      <th>20-24</th>\n",
       "      <td>$365.00</td>\n",
       "      <td>$3.05</td>\n",
       "      <td>$1,114.06</td>\n",
       "      <td>$3.05</td>\n",
       "    </tr>\n",
       "    <tr>\n",
       "      <th>25-29</th>\n",
       "      <td>$101.00</td>\n",
       "      <td>$2.90</td>\n",
       "      <td>$293.00</td>\n",
       "      <td>$2.90</td>\n",
       "    </tr>\n",
       "    <tr>\n",
       "      <th>30-34</th>\n",
       "      <td>$73.00</td>\n",
       "      <td>$2.93</td>\n",
       "      <td>$214.00</td>\n",
       "      <td>$2.93</td>\n",
       "    </tr>\n",
       "    <tr>\n",
       "      <th>35-39</th>\n",
       "      <td>$41.00</td>\n",
       "      <td>$3.60</td>\n",
       "      <td>$147.67</td>\n",
       "      <td>$3.60</td>\n",
       "    </tr>\n",
       "    <tr>\n",
       "      <th>&gt;40</th>\n",
       "      <td>$13.00</td>\n",
       "      <td>$2.94</td>\n",
       "      <td>$38.24</td>\n",
       "      <td>$2.94</td>\n",
       "    </tr>\n",
       "  </tbody>\n",
       "</table>\n",
       "</div>"
      ],
      "text/plain": [
       "           Purchase Count Average Purchase Price Total Purchase Value  \\\n",
       "Age Ranges                                                              \n",
       "<10                $23.00                  $3.35               $77.13   \n",
       "10-14              $28.00                  $2.96               $82.78   \n",
       "`5-19             $136.00                  $3.04              $412.89   \n",
       "20-24             $365.00                  $3.05            $1,114.06   \n",
       "25-29             $101.00                  $2.90              $293.00   \n",
       "30-34              $73.00                  $2.93              $214.00   \n",
       "35-39              $41.00                  $3.60              $147.67   \n",
       ">40                $13.00                  $2.94               $38.24   \n",
       "\n",
       "           Normalized Totals  \n",
       "Age Ranges                    \n",
       "<10                    $3.35  \n",
       "10-14                  $2.96  \n",
       "`5-19                  $3.04  \n",
       "20-24                  $3.05  \n",
       "25-29                  $2.90  \n",
       "30-34                  $2.93  \n",
       "35-39                  $3.60  \n",
       ">40                    $2.94  "
      ]
     },
     "execution_count": 185,
     "metadata": {},
     "output_type": "execute_result"
    }
   ],
   "source": [
    "bins =[0, 9.90, 14.90, 19.90, 24.90, 29.90, 34.90, 39.90, 99999]\n",
    "bin_names =[\"<10\",\"10-14\",\"`5-19\",\"20-24\",\"25-29\",\"30-34\",\"35-39\",\">40\"]\n",
    "\n",
    "purchase_data[\"Age Ranges\"] = pd.cut(purchase_data[\"Age\"],bins,labels=bin_names)\n",
    "\n",
    "# Run basic calculations\n",
    "age_purchase_total = purchase_data.groupby([\"Age Ranges\"]).sum()[\"Price\"].rename(\"Total Purchase Value\")\n",
    "age_average = purchase_data.groupby([\"Age Ranges\"]).mean()[\"Price\"].rename(\"Average Purchase Price\")\n",
    "age_counts = purchase_data.groupby([\"Age Ranges\"]).count()[\"Price\"].rename(\"Purchase Count\")\n",
    "\n",
    "# Calculate Normalized Purchasing (Average Purchase Total per Person)\n",
    "normalized_total = age_purchase_total / age_counts\n",
    "normalized_total = normalized_total.round(2)\n",
    "# Convert to DataFrame\n",
    "age_data = pd.DataFrame({\"Purchase Count\": age_counts, \"Average Purchase Price\": age_average, \"Total Purchase Value\": age_purchase_total, \"Normalized Totals\": normalized_total})\n",
    "\n",
    "# Minor Data Munging\n",
    "age_data[\"Average Purchase Price\"] = age_data[\"Average Purchase Price\"].map(\"${:,.2f}\".format)\n",
    "age_data[\"Total Purchase Value\"] = age_data[\"Total Purchase Value\"].map(\"${:,.2f}\".format)\n",
    "age_data [\"Purchase Count\"] = age_data[\"Purchase Count\"].map(\"${:,.2f}\".format)\n",
    "age_data [\"Normalized Totals\"] = age_data[\"Normalized Totals\"].map(\"${:,.2f}\".format)\n",
    "                                                             \n",
    "age_data.head(8)\n"
   ]
  },
  {
   "cell_type": "markdown",
   "metadata": {},
   "source": [
    "## Top Spenders"
   ]
  },
  {
   "cell_type": "markdown",
   "metadata": {},
   "source": [
    "* Run basic calculations to obtain the results in the table below\n",
    "\n",
    "\n",
    "* Create a summary data frame to hold the results\n",
    "\n",
    "\n",
    "* Sort the total purchase value column in descending order\n",
    "\n",
    "\n",
    "* Optional: give the displayed data cleaner formatting\n",
    "\n",
    "\n",
    "* Display a preview of the summary data frame\n",
    "\n"
   ]
  },
  {
   "cell_type": "code",
   "execution_count": 201,
   "metadata": {
    "scrolled": true
   },
   "outputs": [
    {
     "data": {
      "text/html": [
       "<div>\n",
       "<style scoped>\n",
       "    .dataframe tbody tr th:only-of-type {\n",
       "        vertical-align: middle;\n",
       "    }\n",
       "\n",
       "    .dataframe tbody tr th {\n",
       "        vertical-align: top;\n",
       "    }\n",
       "\n",
       "    .dataframe thead th {\n",
       "        text-align: right;\n",
       "    }\n",
       "</style>\n",
       "<table border=\"1\" class=\"dataframe\">\n",
       "  <thead>\n",
       "    <tr style=\"text-align: right;\">\n",
       "      <th></th>\n",
       "      <th>Total Purchase Values</th>\n",
       "      <th>Average Purchase Price</th>\n",
       "      <th>Purchase Count</th>\n",
       "    </tr>\n",
       "    <tr>\n",
       "      <th>SN</th>\n",
       "      <th></th>\n",
       "      <th></th>\n",
       "      <th></th>\n",
       "    </tr>\n",
       "  </thead>\n",
       "  <tbody>\n",
       "    <tr>\n",
       "      <th>Haillyrgue51</th>\n",
       "      <td>$9.50</td>\n",
       "      <td>$3.17</td>\n",
       "      <td>3</td>\n",
       "    </tr>\n",
       "    <tr>\n",
       "      <th>Phistym51</th>\n",
       "      <td>$9.50</td>\n",
       "      <td>$4.75</td>\n",
       "      <td>2</td>\n",
       "    </tr>\n",
       "    <tr>\n",
       "      <th>Lamil79</th>\n",
       "      <td>$9.29</td>\n",
       "      <td>$4.64</td>\n",
       "      <td>2</td>\n",
       "    </tr>\n",
       "    <tr>\n",
       "      <th>Aina42</th>\n",
       "      <td>$9.22</td>\n",
       "      <td>$3.07</td>\n",
       "      <td>3</td>\n",
       "    </tr>\n",
       "    <tr>\n",
       "      <th>Saesrideu94</th>\n",
       "      <td>$9.18</td>\n",
       "      <td>$4.59</td>\n",
       "      <td>2</td>\n",
       "    </tr>\n",
       "  </tbody>\n",
       "</table>\n",
       "</div>"
      ],
      "text/plain": [
       "             Total Purchase Values Average Purchase Price  Purchase Count\n",
       "SN                                                                       \n",
       "Haillyrgue51                 $9.50                  $3.17               3\n",
       "Phistym51                    $9.50                  $4.75               2\n",
       "Lamil79                      $9.29                  $4.64               2\n",
       "Aina42                       $9.22                  $3.07               3\n",
       "Saesrideu94                  $9.18                  $4.59               2"
      ]
     },
     "execution_count": 201,
     "metadata": {},
     "output_type": "execute_result"
    }
   ],
   "source": [
    "purchase_data = pd.read_csv(file_to_load)\n",
    "df1= purchase_data.groupby(\"SN\").agg({\"Price\":[\"sum\",\"mean\"],\"Item ID\":\"count\"})\n",
    "df1.columns=['Total Purchase Values','Average Purchase Price','Purchase Count']\n",
    "df1.columns=['_'.join(tup).rstrip('_') for tup in df1.columns.values]\n",
    "df1.columns = ['Total Purchase Values','Average Purchase Price','Purchase Count']\n",
    "df1=df1.round(2)\n",
    "df1 [\"Total Purchase Values\"] = df1[\"Total Purchase Values\"].map(\"${:,.2f}\".format)\n",
    "df1 [\"Average Purchase Price\"] = df1[\"Average Purchase Price\"].map(\"${:,.2f}\".format)\n",
    "df1.sort_values(\"Total Purchase Values\", ascending = False).head(5)\n"
   ]
  },
  {
   "cell_type": "markdown",
   "metadata": {},
   "source": [
    "## Most Popular Items"
   ]
  },
  {
   "cell_type": "markdown",
   "metadata": {},
   "source": [
    "* Retrieve the Item ID, Item Name, and Item Price columns\n",
    "\n",
    "\n",
    "* Group by Item ID and Item Name. Perform calculations to obtain purchase count, item price, and total purchase value\n",
    "\n",
    "\n",
    "* Create a summary data frame to hold the results\n",
    "\n",
    "\n",
    "* Sort the purchase count column in descending order\n",
    "\n",
    "\n",
    "* Optional: give the displayed data cleaner formatting\n",
    "\n",
    "\n",
    "* Display a preview of the summary data frame\n",
    "\n"
   ]
  },
  {
   "cell_type": "code",
   "execution_count": 203,
   "metadata": {},
   "outputs": [
    {
     "data": {
      "text/html": [
       "<div>\n",
       "<style scoped>\n",
       "    .dataframe tbody tr th:only-of-type {\n",
       "        vertical-align: middle;\n",
       "    }\n",
       "\n",
       "    .dataframe tbody tr th {\n",
       "        vertical-align: top;\n",
       "    }\n",
       "\n",
       "    .dataframe thead th {\n",
       "        text-align: right;\n",
       "    }\n",
       "</style>\n",
       "<table border=\"1\" class=\"dataframe\">\n",
       "  <thead>\n",
       "    <tr style=\"text-align: right;\">\n",
       "      <th></th>\n",
       "      <th>Item Name</th>\n",
       "      <th>Purchase Count</th>\n",
       "      <th>Item Price</th>\n",
       "      <th>Total Purcahse Value</th>\n",
       "    </tr>\n",
       "    <tr>\n",
       "      <th>Item ID</th>\n",
       "      <th></th>\n",
       "      <th></th>\n",
       "      <th></th>\n",
       "      <th></th>\n",
       "    </tr>\n",
       "  </thead>\n",
       "  <tbody>\n",
       "    <tr>\n",
       "      <th>178</th>\n",
       "      <td>Oathbreaker, Last Hope of the Breaking Storm</td>\n",
       "      <td>12</td>\n",
       "      <td>$4.23</td>\n",
       "      <td>$50.76</td>\n",
       "    </tr>\n",
       "    <tr>\n",
       "      <th>145</th>\n",
       "      <td>Fiery Glass Crusader</td>\n",
       "      <td>9</td>\n",
       "      <td>$4.58</td>\n",
       "      <td>$41.22</td>\n",
       "    </tr>\n",
       "    <tr>\n",
       "      <th>108</th>\n",
       "      <td>Extraction, Quickblade Of Trembling Hands</td>\n",
       "      <td>9</td>\n",
       "      <td>$3.53</td>\n",
       "      <td>$31.77</td>\n",
       "    </tr>\n",
       "    <tr>\n",
       "      <th>82</th>\n",
       "      <td>Nirvana</td>\n",
       "      <td>9</td>\n",
       "      <td>$4.90</td>\n",
       "      <td>$44.10</td>\n",
       "    </tr>\n",
       "    <tr>\n",
       "      <th>19</th>\n",
       "      <td>Pursuit, Cudgel of Necromancy</td>\n",
       "      <td>8</td>\n",
       "      <td>$1.02</td>\n",
       "      <td>$8.16</td>\n",
       "    </tr>\n",
       "  </tbody>\n",
       "</table>\n",
       "</div>"
      ],
      "text/plain": [
       "                                            Item Name  Purchase Count  \\\n",
       "Item ID                                                                 \n",
       "178      Oathbreaker, Last Hope of the Breaking Storm              12   \n",
       "145                              Fiery Glass Crusader               9   \n",
       "108         Extraction, Quickblade Of Trembling Hands               9   \n",
       "82                                            Nirvana               9   \n",
       "19                      Pursuit, Cudgel of Necromancy               8   \n",
       "\n",
       "        Item Price Total Purcahse Value  \n",
       "Item ID                                  \n",
       "178          $4.23               $50.76  \n",
       "145          $4.58               $41.22  \n",
       "108          $3.53               $31.77  \n",
       "82           $4.90               $44.10  \n",
       "19           $1.02                $8.16  "
      ]
     },
     "execution_count": 203,
     "metadata": {},
     "output_type": "execute_result"
    }
   ],
   "source": [
    "def get_first_value(x):\n",
    "    return(x.tolist()[0])\n",
    "purchase_data = pd.read_csv(file_to_load)\n",
    "df1=purchase_data.groupby(\"Item ID\").agg({\"Item Name\":get_first_value, \"Item ID\":\"count\",\"Price\":[\"mean\",\"sum\"]})\n",
    "df1.columns = ['_'.join(tup).rstrip('_') for tup in df1.columns.values]\n",
    "df1.columns=['Item Name','Purchase Count','Item Price','Total Purcahse Value']\n",
    "df1 [\"Item Price\"] = df1[\"Item Price\"].map(\"${:,.2f}\".format)\n",
    "df1 [\"Total Purcahse Value\"] = df1[\"Total Purcahse Value\"].map(\"${:,.2f}\".format)\n",
    "df1\n",
    "df1.sort_values(\"Purchase Count\",ascending = False).head(5)"
   ]
  },
  {
   "cell_type": "markdown",
   "metadata": {},
   "source": [
    "## Most Profitable Items"
   ]
  },
  {
   "cell_type": "markdown",
   "metadata": {},
   "source": [
    "* Sort the above table by total purchase value in descending order\n",
    "\n",
    "\n",
    "* Optional: give the displayed data cleaner formatting\n",
    "\n",
    "\n",
    "* Display a preview of the data frame\n",
    "\n"
   ]
  },
  {
   "cell_type": "code",
   "execution_count": 212,
   "metadata": {
    "scrolled": false
   },
   "outputs": [
    {
     "data": {
      "text/html": [
       "<div>\n",
       "<style scoped>\n",
       "    .dataframe tbody tr th:only-of-type {\n",
       "        vertical-align: middle;\n",
       "    }\n",
       "\n",
       "    .dataframe tbody tr th {\n",
       "        vertical-align: top;\n",
       "    }\n",
       "\n",
       "    .dataframe thead th {\n",
       "        text-align: right;\n",
       "    }\n",
       "</style>\n",
       "<table border=\"1\" class=\"dataframe\">\n",
       "  <thead>\n",
       "    <tr style=\"text-align: right;\">\n",
       "      <th></th>\n",
       "      <th>Item Name</th>\n",
       "      <th>Purchase_Count</th>\n",
       "      <th>Item Price</th>\n",
       "      <th>Total Purchase Value</th>\n",
       "    </tr>\n",
       "    <tr>\n",
       "      <th>Item ID</th>\n",
       "      <th></th>\n",
       "      <th></th>\n",
       "      <th></th>\n",
       "      <th></th>\n",
       "    </tr>\n",
       "  </thead>\n",
       "  <tbody>\n",
       "    <tr>\n",
       "      <th>178</th>\n",
       "      <td>Oathbreaker, Last Hope of the Breaking Storm</td>\n",
       "      <td>12</td>\n",
       "      <td>$4.23</td>\n",
       "      <td>$50.76</td>\n",
       "    </tr>\n",
       "    <tr>\n",
       "      <th>145</th>\n",
       "      <td>Fiery Glass Crusader</td>\n",
       "      <td>9</td>\n",
       "      <td>$4.58</td>\n",
       "      <td>$41.22</td>\n",
       "    </tr>\n",
       "    <tr>\n",
       "      <th>108</th>\n",
       "      <td>Extraction, Quickblade Of Trembling Hands</td>\n",
       "      <td>9</td>\n",
       "      <td>$3.53</td>\n",
       "      <td>$31.77</td>\n",
       "    </tr>\n",
       "    <tr>\n",
       "      <th>82</th>\n",
       "      <td>Nirvana</td>\n",
       "      <td>9</td>\n",
       "      <td>$4.90</td>\n",
       "      <td>$44.10</td>\n",
       "    </tr>\n",
       "    <tr>\n",
       "      <th>19</th>\n",
       "      <td>Pursuit, Cudgel of Necromancy</td>\n",
       "      <td>8</td>\n",
       "      <td>$1.02</td>\n",
       "      <td>$8.16</td>\n",
       "    </tr>\n",
       "  </tbody>\n",
       "</table>\n",
       "</div>"
      ],
      "text/plain": [
       "                                            Item Name  Purchase_Count  \\\n",
       "Item ID                                                                 \n",
       "178      Oathbreaker, Last Hope of the Breaking Storm              12   \n",
       "145                              Fiery Glass Crusader               9   \n",
       "108         Extraction, Quickblade Of Trembling Hands               9   \n",
       "82                                            Nirvana               9   \n",
       "19                      Pursuit, Cudgel of Necromancy               8   \n",
       "\n",
       "        Item Price Total Purchase Value  \n",
       "Item ID                                  \n",
       "178          $4.23               $50.76  \n",
       "145          $4.58               $41.22  \n",
       "108          $3.53               $31.77  \n",
       "82           $4.90               $44.10  \n",
       "19           $1.02                $8.16  "
      ]
     },
     "execution_count": 212,
     "metadata": {},
     "output_type": "execute_result"
    }
   ],
   "source": [
    "def get_first_value(x):\n",
    "    return(x.tolist()[0])\n",
    "purchase_data =pd.read_csv(file_to_load)\n",
    "df1 = purchase_data.groupby(\"Item ID\").agg({\"Item Name\":get_first_value,\"Item ID\":\"count\",\"Price\":[\"mean\",\"sum\"]})\n",
    "df1.columns = ['_'.join(tup).rstrip('_') for tup in df1.columns.values]\n",
    "df1.columns = ['Item Name','Purchase_Count','Item Price','Total Purchase Value']\n",
    "df1[\"Item Price\"] = df1[\"Item Price\"].map(\"${:,.2f}\".format)\n",
    "df1[\"Total Purchase Value\"] = df1[\"Total Purchase Value\"].map(\"${:,.2f}\".format)\n",
    "df1.columns\n",
    "df1.sort_values(\"Purchase_Count\", ascending = False).head()\n"
   ]
  },
  {
   "cell_type": "code",
   "execution_count": null,
   "metadata": {},
   "outputs": [],
   "source": []
  }
 ],
 "metadata": {
  "anaconda-cloud": {},
  "kernel_info": {
   "name": "python3"
  },
  "kernelspec": {
   "display_name": "Python 3",
   "language": "python",
   "name": "python3"
  },
  "language_info": {
   "codemirror_mode": {
    "name": "ipython",
    "version": 3
   },
   "file_extension": ".py",
   "mimetype": "text/x-python",
   "name": "python",
   "nbconvert_exporter": "python",
   "pygments_lexer": "ipython3",
   "version": "3.7.1"
  },
  "nteract": {
   "version": "0.2.0"
  }
 },
 "nbformat": 4,
 "nbformat_minor": 2
}
